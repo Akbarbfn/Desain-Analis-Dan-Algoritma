{
  "nbformat": 4,
  "nbformat_minor": 0,
  "metadata": {
    "colab": {
      "name": "Pertemuan_12.ipynb",
      "provenance": [],
      "authorship_tag": "ABX9TyNRFae3Fsdncr0Wx7iAvYbg",
      "include_colab_link": true
    },
    "kernelspec": {
      "name": "python3",
      "display_name": "Python 3"
    },
    "language_info": {
      "name": "python"
    }
  },
  "cells": [
    {
      "cell_type": "markdown",
      "metadata": {
        "id": "view-in-github",
        "colab_type": "text"
      },
      "source": [
        "<a href=\"https://colab.research.google.com/github/Akbarbfn/Desain-Analis-Dan-Algoritma/blob/main/Pertemuan_12.ipynb\" target=\"_parent\"><img src=\"https://colab.research.google.com/assets/colab-badge.svg\" alt=\"Open In Colab\"/></a>"
      ]
    },
    {
      "cell_type": "code",
      "metadata": {
        "colab": {
          "base_uri": "https://localhost:8080/",
          "height": 319
        },
        "id": "wRQE_gmhMEFF",
        "outputId": "41e33c6f-6275-4ec5-da75-67bf775ce5a0"
      },
      "source": [
        "import networkx as nx\n",
        "import matplotlib.pyplot as plt\n",
        "vertices = range(1,10)\n",
        "edges = [(7,2), (2,3), (7,4), (4,5), (7,3), (7,5), (1,6), (1,7), (2,8), (2,9)]\n",
        "G = nx.Graph()\n",
        "G.add_nodes_from(vertices)\n",
        "G.add_edges_from(edges)\n",
        "nx.draw(G, with_labels=True, node_color='y', node_size=800)"
      ],
      "execution_count": 1,
      "outputs": [
        {
          "output_type": "display_data",
          "data": {
            "image/png": "[encoded data removed]",
            "text/plain": [
              "<Figure size 432x288 with 1 Axes>"
            ]
          },
          "metadata": {}
        }
      ]
    },
    {
      "cell_type": "code",
      "metadata": {
        "colab": {
          "base_uri": "https://localhost:8080/"
        },
        "id": "mH-IHznRMHaJ",
        "outputId": "ad6a9430-4b5d-4573-e849-ba18731c46b8"
      },
      "source": [
        "nx.degree_centrality(G)"
      ],
      "execution_count": 2,
      "outputs": [
        {
          "output_type": "execute_result",
          "data": {
            "text/plain": [
              "{1: 0.25,\n",
              " 2: 0.5,\n",
              " 3: 0.25,\n",
              " 4: 0.25,\n",
              " 5: 0.25,\n",
              " 6: 0.125,\n",
              " 7: 0.625,\n",
              " 8: 0.125,\n",
              " 9: 0.125}"
            ]
          },
          "metadata": {},
          "execution_count": 2
        }
      ]
    },
    {
      "cell_type": "code",
      "metadata": {
        "colab": {
          "base_uri": "https://localhost:8080/"
        },
        "id": "F__5ydrMMLfs",
        "outputId": "5b8526f9-9730-47a1-db19-0e0255e2a77c"
      },
      "source": [
        "nx.betweenness_centrality(G)"
      ],
      "execution_count": 3,
      "outputs": [
        {
          "output_type": "execute_result",
          "data": {
            "text/plain": [
              "{1: 0.25,\n",
              " 2: 0.46428571428571425,\n",
              " 3: 0.0,\n",
              " 4: 0.0,\n",
              " 5: 0.0,\n",
              " 6: 0.0,\n",
              " 7: 0.7142857142857142,\n",
              " 8: 0.0,\n",
              " 9: 0.0}"
            ]
          },
          "metadata": {},
          "execution_count": 3
        }
      ]
    },
    {
      "cell_type": "code",
      "metadata": {
        "colab": {
          "base_uri": "https://localhost:8080/"
        },
        "id": "bCRLGPJAMNB9",
        "outputId": "301b1aa6-1db3-455d-f55b-b4c65f5c72c4"
      },
      "source": [
        "nx.closeness_centrality(G)"
      ],
      "execution_count": 4,
      "outputs": [
        {
          "output_type": "execute_result",
          "data": {
            "text/plain": [
              "{1: 0.5,\n",
              " 2: 0.6153846153846154,\n",
              " 3: 0.5333333333333333,\n",
              " 4: 0.47058823529411764,\n",
              " 5: 0.47058823529411764,\n",
              " 6: 0.34782608695652173,\n",
              " 7: 0.7272727272727273,\n",
              " 8: 0.4,\n",
              " 9: 0.4}"
            ]
          },
          "metadata": {},
          "execution_count": 4
        }
      ]
    },
    {
      "cell_type": "code",
      "metadata": {
        "id": "ImgWAG_SMOeI"
      },
      "source": [
        "centrality = nx.eigenvector_centrality(G)"
      ],
      "execution_count": 5,
      "outputs": []
    },
    {
      "cell_type": "code",
      "metadata": {
        "colab": {
          "base_uri": "https://localhost:8080/"
        },
        "id": "Or6LeTfZMQJh",
        "outputId": "37fb4e0a-0239-4b89-f91b-3dcd6a9f4509"
      },
      "source": [
        "sorted((v, '{:0.2f}'.format(c)) for v, c in centrality.items())"
      ],
      "execution_count": 6,
      "outputs": [
        {
          "output_type": "execute_result",
          "data": {
            "text/plain": [
              "[(1, '0.24'),\n",
              " (2, '0.45'),\n",
              " (3, '0.36'),\n",
              " (4, '0.32'),\n",
              " (5, '0.32'),\n",
              " (6, '0.08'),\n",
              " (7, '0.59'),\n",
              " (8, '0.16'),\n",
              " (9, '0.16')]"
            ]
          },
          "metadata": {},
          "execution_count": 6
        }
      ]
    },
    {
      "cell_type": "code",
      "metadata": {
        "colab": {
          "base_uri": "https://localhost:8080/",
          "height": 319
        },
        "id": "pvHTPixbMQuu",
        "outputId": "b6258386-bfd6-414c-f46f-1b841b40c7e4"
      },
      "source": [
        "vertices = range(1,10)\n",
        "edges = [(1,2), (2,3), (3,4), (4,5), (5,6), (6,7), (7,8), (8,9), (9,3), (9,10), (10,5), (4,10),(10,7), (5,10), (10,8),(4,6),(7,9),(4,9),(10,6)]\n",
        "G = nx.Graph()\n",
        "G.add_nodes_from(vertices)\n",
        "G.add_edges_from(edges)\n",
        "nx.draw(G, with_labels=True, node_color='y', node_size=800)"
      ],
      "execution_count": 7,
      "outputs": [
        {
          "output_type": "display_data",
          "data": {
            "image/png": "[encoded data removed]",
            "text/plain": [
              "<Figure size 432x288 with 1 Axes>"
            ]
          },
          "metadata": {}
        }
      ]
    },
    {
      "cell_type": "code",
      "metadata": {
        "colab": {
          "base_uri": "https://localhost:8080/"
        },
        "id": "kLgdWyYPMTnt",
        "outputId": "7667a375-fa62-4654-d353-3a034b0e833f"
      },
      "source": [
        "nx.degree_centrality(G)"
      ],
      "execution_count": 8,
      "outputs": [
        {
          "output_type": "execute_result",
          "data": {
            "text/plain": [
              "{1: 0.1111111111111111,\n",
              " 2: 0.2222222222222222,\n",
              " 3: 0.3333333333333333,\n",
              " 4: 0.5555555555555556,\n",
              " 5: 0.3333333333333333,\n",
              " 6: 0.4444444444444444,\n",
              " 7: 0.4444444444444444,\n",
              " 8: 0.3333333333333333,\n",
              " 9: 0.5555555555555556,\n",
              " 10: 0.6666666666666666}"
            ]
          },
          "metadata": {},
          "execution_count": 8
        }
      ]
    },
    {
      "cell_type": "code",
      "metadata": {
        "colab": {
          "base_uri": "https://localhost:8080/"
        },
        "id": "_GNp3s1nMVO2",
        "outputId": "0668fa6e-b53c-490e-f320-c26ed634e621"
      },
      "source": [
        "nx.betweenness_centrality(G)"
      ],
      "execution_count": 9,
      "outputs": [
        {
          "output_type": "execute_result",
          "data": {
            "text/plain": [
              "{1: 0.0,\n",
              " 2: 0.2222222222222222,\n",
              " 3: 0.38888888888888884,\n",
              " 4: 0.23148148148148148,\n",
              " 5: 0.0,\n",
              " 6: 0.023148148148148143,\n",
              " 7: 0.023148148148148143,\n",
              " 8: 0.0,\n",
              " 9: 0.23148148148148148,\n",
              " 10: 0.10185185185185183}"
            ]
          },
          "metadata": {},
          "execution_count": 9
        }
      ]
    },
    {
      "cell_type": "code",
      "metadata": {
        "colab": {
          "base_uri": "https://localhost:8080/"
        },
        "id": "rnfjudiHMXX9",
        "outputId": "dc896c71-e43e-432d-e036-d5fde49f21c6"
      },
      "source": [
        "nx.closeness_centrality(G)"
      ],
      "execution_count": 10,
      "outputs": [
        {
          "output_type": "execute_result",
          "data": {
            "text/plain": [
              "{1: 0.3103448275862069,\n",
              " 2: 0.42857142857142855,\n",
              " 3: 0.6,\n",
              " 4: 0.6428571428571429,\n",
              " 5: 0.5,\n",
              " 6: 0.5294117647058824,\n",
              " 7: 0.5294117647058824,\n",
              " 8: 0.5,\n",
              " 9: 0.6428571428571429,\n",
              " 10: 0.6}"
            ]
          },
          "metadata": {},
          "execution_count": 10
        }
      ]
    },
    {
      "cell_type": "code",
      "metadata": {
        "colab": {
          "base_uri": "https://localhost:8080/"
        },
        "id": "AFJeLXTtMYrS",
        "outputId": "47ce758e-8e74-48c2-eceb-8de855b16202"
      },
      "source": [
        "centrality = nx.eigenvector_centrality(G)\n",
        "sorted((v, '{:0.2f}'.format(c)) for v, c in centrality.items())"
      ],
      "execution_count": 11,
      "outputs": [
        {
          "output_type": "execute_result",
          "data": {
            "text/plain": [
              "[(1, '0.01'),\n",
              " (2, '0.05'),\n",
              " (3, '0.20'),\n",
              " (4, '0.40'),\n",
              " (5, '0.29'),\n",
              " (6, '0.35'),\n",
              " (7, '0.35'),\n",
              " (8, '0.29'),\n",
              " (9, '0.40'),\n",
              " (10, '0.48')]"
            ]
          },
          "metadata": {},
          "execution_count": 11
        }
      ]
    },
    {
      "cell_type": "code",
      "metadata": {
        "colab": {
          "base_uri": "https://localhost:8080/",
          "height": 319
        },
        "id": "cYYNUUG9Magf",
        "outputId": "fafd7c1e-4647-4a3e-d8c3-4fd968ccd5e0"
      },
      "source": [
        "vertices = range(1,15)\n",
        "edges = [(1,4),(1,10), (1,2), (2,12), (2,11), (2,15), (2,3), (3,13), (3,5), (2,6), (6,9), (6,7), (6,14), (6,8)]\n",
        "G = nx.Graph()\n",
        "G.add_nodes_from(vertices)\n",
        "G.add_edges_from(edges)\n",
        "nx.draw(G, with_labels=True, node_color='y', node_size=800)"
      ],
      "execution_count": 12,
      "outputs": [
        {
          "output_type": "display_data",
          "data": {
            "image/png": "[encoded data removed]",
            "text/plain": [
              "<Figure size 432x288 with 1 Axes>"
            ]
          },
          "metadata": {}
        }
      ]
    },
    {
      "cell_type": "code",
      "metadata": {
        "colab": {
          "base_uri": "https://localhost:8080/"
        },
        "id": "4pqpFQIVMbVq",
        "outputId": "4ee02f1d-e11c-400d-def5-49e844c0fd64"
      },
      "source": [
        "nx.degree_centrality(G)"
      ],
      "execution_count": 13,
      "outputs": [
        {
          "output_type": "execute_result",
          "data": {
            "text/plain": [
              "{1: 0.21428571428571427,\n",
              " 2: 0.42857142857142855,\n",
              " 3: 0.21428571428571427,\n",
              " 4: 0.07142857142857142,\n",
              " 5: 0.07142857142857142,\n",
              " 6: 0.3571428571428571,\n",
              " 7: 0.07142857142857142,\n",
              " 8: 0.07142857142857142,\n",
              " 9: 0.07142857142857142,\n",
              " 10: 0.07142857142857142,\n",
              " 11: 0.07142857142857142,\n",
              " 12: 0.07142857142857142,\n",
              " 13: 0.07142857142857142,\n",
              " 14: 0.07142857142857142,\n",
              " 15: 0.07142857142857142}"
            ]
          },
          "metadata": {},
          "execution_count": 13
        }
      ]
    },
    {
      "cell_type": "code",
      "metadata": {
        "colab": {
          "base_uri": "https://localhost:8080/"
        },
        "id": "JgOzCu0mMd1D",
        "outputId": "de6509f4-7880-43cb-d025-71fe9956a21b"
      },
      "source": [
        "nx.betweenness_centrality(G)"
      ],
      "execution_count": 14,
      "outputs": [
        {
          "output_type": "execute_result",
          "data": {
            "text/plain": [
              "{1: 0.27472527472527475,\n",
              " 2: 0.8241758241758242,\n",
              " 3: 0.27472527472527475,\n",
              " 4: 0.0,\n",
              " 5: 0.0,\n",
              " 6: 0.5054945054945056,\n",
              " 7: 0.0,\n",
              " 8: 0.0,\n",
              " 9: 0.0,\n",
              " 10: 0.0,\n",
              " 11: 0.0,\n",
              " 12: 0.0,\n",
              " 13: 0.0,\n",
              " 14: 0.0,\n",
              " 15: 0.0}"
            ]
          },
          "metadata": {},
          "execution_count": 14
        }
      ]
    },
    {
      "cell_type": "code",
      "metadata": {
        "colab": {
          "base_uri": "https://localhost:8080/"
        },
        "id": "rI1q1Pn0MfQd",
        "outputId": "a38dd53b-5534-4c56-af12-49662e194ab4"
      },
      "source": [
        "nx.closeness_centrality(G)"
      ],
      "execution_count": 15,
      "outputs": [
        {
          "output_type": "execute_result",
          "data": {
            "text/plain": [
              "{1: 0.45161290322580644,\n",
              " 2: 0.6363636363636364,\n",
              " 3: 0.45161290322580644,\n",
              " 4: 0.3181818181818182,\n",
              " 5: 0.3181818181818182,\n",
              " 6: 0.5185185185185185,\n",
              " 7: 0.35,\n",
              " 8: 0.35,\n",
              " 9: 0.35,\n",
              " 10: 0.3181818181818182,\n",
              " 11: 0.4,\n",
              " 12: 0.4,\n",
              " 13: 0.3181818181818182,\n",
              " 14: 0.35,\n",
              " 15: 0.4}"
            ]
          },
          "metadata": {},
          "execution_count": 15
        }
      ]
    },
    {
      "cell_type": "code",
      "metadata": {
        "colab": {
          "base_uri": "https://localhost:8080/"
        },
        "id": "GFiipr-NMghs",
        "outputId": "369bb611-d895-445c-c522-be84ca68d104"
      },
      "source": [
        "centrality = nx.eigenvector_centrality(G)\n",
        "sorted((v, '{:0.2f}'.format(c)) for v, c in centrality.items())"
      ],
      "execution_count": 16,
      "outputs": [
        {
          "output_type": "execute_result",
          "data": {
            "text/plain": [
              "[(1, '0.29'),\n",
              " (2, '0.60'),\n",
              " (3, '0.29'),\n",
              " (4, '0.10'),\n",
              " (5, '0.10'),\n",
              " (6, '0.44'),\n",
              " (7, '0.16'),\n",
              " (8, '0.16'),\n",
              " (9, '0.16'),\n",
              " (10, '0.10'),\n",
              " (11, '0.21'),\n",
              " (12, '0.21'),\n",
              " (13, '0.10'),\n",
              " (14, '0.16'),\n",
              " (15, '0.21')]"
            ]
          },
          "metadata": {},
          "execution_count": 16
        }
      ]
    }
  ]
}