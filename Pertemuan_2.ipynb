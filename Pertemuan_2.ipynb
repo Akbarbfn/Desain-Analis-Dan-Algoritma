{
  "nbformat": 4,
  "nbformat_minor": 0,
  "metadata": {
    "colab": {
      "name": "Pertemuan 2.ipynb",
      "provenance": [],
      "authorship_tag": "ABX9TyPhzb5/yCzQWBih3BtZpm/B",
      "include_colab_link": true
    },
    "kernelspec": {
      "name": "python3",
      "display_name": "Python 3"
    },
    "language_info": {
      "name": "python"
    }
  },
  "cells": [
    {
      "cell_type": "markdown",
      "metadata": {
        "id": "view-in-github",
        "colab_type": "text"
      },
      "source": [
        "<a href=\"https://colab.research.google.com/github/Akbarbfn/Desain-Analis-Dan-Algoritma/blob/main/Pertemuan_2.ipynb\" target=\"_parent\"><img src=\"https://colab.research.google.com/assets/colab-badge.svg\" alt=\"Open In Colab\"/></a>"
      ]
    },
    {
      "cell_type": "code",
      "metadata": {
        "id": "U6a1SQIXlZEF"
      },
      "source": [
        "import numpy as np"
      ],
      "execution_count": 1,
      "outputs": []
    },
    {
      "cell_type": "code",
      "metadata": {
        "colab": {
          "base_uri": "https://localhost:8080/"
        },
        "id": "N4lgohzGlges",
        "outputId": "c86e4ab1-1c75-47e9-d529-3c1e60c43454"
      },
      "source": [
        "print (np.__version__)"
      ],
      "execution_count": 3,
      "outputs": [
        {
          "output_type": "stream",
          "name": "stdout",
          "text": [
            "1.19.5\n"
          ]
        }
      ]
    },
    {
      "cell_type": "code",
      "metadata": {
        "colab": {
          "base_uri": "https://localhost:8080/"
        },
        "id": "yuq9_WlQnAFJ",
        "outputId": "92950982-cd71-4119-a5ff-b07a6dca1818"
      },
      "source": [
        "print (\"Hello, World!\")"
      ],
      "execution_count": 8,
      "outputs": [
        {
          "output_type": "stream",
          "name": "stdout",
          "text": [
            "Hello, World!\n"
          ]
        }
      ]
    },
    {
      "cell_type": "code",
      "metadata": {
        "colab": {
          "base_uri": "https://localhost:8080/"
        },
        "id": "Z-H30eb9oZ0I",
        "outputId": "6637ebf5-9c45-4515-9d3d-949db6fbcbc4"
      },
      "source": [
        "print (\"Nama Saya (Akbar Bafunazair)\")"
      ],
      "execution_count": 9,
      "outputs": [
        {
          "output_type": "stream",
          "name": "stdout",
          "text": [
            "Nama Saya (Akbar Bafunazair)\n"
          ]
        }
      ]
    },
    {
      "cell_type": "code",
      "metadata": {
        "colab": {
          "base_uri": "https://localhost:8080/"
        },
        "id": "vUOTTxs3oZ68",
        "outputId": "e37a43f0-fbfc-4d77-d7db-3fbb0161265f"
      },
      "source": [
        "print (\"NIM Saya (2018071013)\")"
      ],
      "execution_count": 10,
      "outputs": [
        {
          "output_type": "stream",
          "name": "stdout",
          "text": [
            "NIM Saya (2018071013)\n"
          ]
        }
      ]
    },
    {
      "cell_type": "code",
      "metadata": {
        "colab": {
          "base_uri": "https://localhost:8080/"
        },
        "id": "pVX-Bqo-oobR",
        "outputId": "bc1acad7-84d4-460a-8b61-66c0d0184cbd"
      },
      "source": [
        "if 5 > 2 :\n",
        "  print (\"Five is greater than two!\")"
      ],
      "execution_count": 16,
      "outputs": [
        {
          "output_type": "stream",
          "name": "stdout",
          "text": [
            "Five is greater than two!\n"
          ]
        }
      ]
    },
    {
      "cell_type": "code",
      "metadata": {
        "colab": {
          "base_uri": "https://localhost:8080/"
        },
        "id": "I4_TwgHnplK9",
        "outputId": "678f934c-e2f1-4e27-a2c9-6cd4174cba8e"
      },
      "source": [
        "x = 5\n",
        "y = \"John\"\n",
        "print (x)\n",
        "print (y)"
      ],
      "execution_count": 19,
      "outputs": [
        {
          "output_type": "stream",
          "name": "stdout",
          "text": [
            "5\n",
            "John\n"
          ]
        }
      ]
    },
    {
      "cell_type": "code",
      "metadata": {
        "colab": {
          "base_uri": "https://localhost:8080/"
        },
        "id": "lV68UXlKpq4F",
        "outputId": "08b66571-8efc-472f-b6d7-ab4e957f89f4"
      },
      "source": [
        "x = 4\n",
        "x = \"Sally\"\n",
        "\n",
        "print (x)"
      ],
      "execution_count": 23,
      "outputs": [
        {
          "output_type": "stream",
          "name": "stdout",
          "text": [
            "Sally\n"
          ]
        }
      ]
    },
    {
      "cell_type": "code",
      "metadata": {
        "colab": {
          "base_uri": "https://localhost:8080/"
        },
        "id": "Hxhe2fzyq_il",
        "outputId": "a24f6b20-4e68-4408-87d9-2ec8a644cb0e"
      },
      "source": [
        "def getFirst(myList) :\n",
        "  return myList[0]\n",
        "\n",
        "getFirst([1,2,3])"
      ],
      "execution_count": 26,
      "outputs": [
        {
          "output_type": "execute_result",
          "data": {
            "text/plain": [
              "1"
            ]
          },
          "metadata": {},
          "execution_count": 26
        }
      ]
    },
    {
      "cell_type": "code",
      "metadata": {
        "colab": {
          "base_uri": "https://localhost:8080/"
        },
        "id": "acFZZ8oksdgd",
        "outputId": "f67a307a-13e3-48cd-844e-3efa6ec8fddf"
      },
      "source": [
        "def getSecond(myList) :\n",
        "  return myList[1]\n",
        "\n",
        "getSecond([1,2,3,4]) "
      ],
      "execution_count": 28,
      "outputs": [
        {
          "output_type": "execute_result",
          "data": {
            "text/plain": [
              "2"
            ]
          },
          "metadata": {},
          "execution_count": 28
        }
      ]
    },
    {
      "cell_type": "code",
      "metadata": {
        "colab": {
          "base_uri": "https://localhost:8080/"
        },
        "id": "QiCTrGNEtmLT",
        "outputId": "1bec45cf-eae5-4fbe-bf46-97c23ceff81f"
      },
      "source": [
        "def getLast(myList) :\n",
        "  return myList[-1]\n",
        "\n",
        "getLast([1,2,3,4])"
      ],
      "execution_count": 33,
      "outputs": [
        {
          "output_type": "execute_result",
          "data": {
            "text/plain": [
              "4"
            ]
          },
          "metadata": {},
          "execution_count": 33
        }
      ]
    },
    {
      "cell_type": "code",
      "metadata": {
        "colab": {
          "base_uri": "https://localhost:8080/"
        },
        "id": "x3gW8YBAuBC4",
        "outputId": "3424ecd1-3c07-481c-bbe5-e6abce7bda2f"
      },
      "source": [
        "def getSum(myList):\n",
        "  sum = 0\n",
        "  for item in myList:\n",
        "    sum = sum+item\n",
        "  return sum\n",
        "\n",
        "getSum([1,2,3,4]) "
      ],
      "execution_count": 35,
      "outputs": [
        {
          "output_type": "execute_result",
          "data": {
            "text/plain": [
              "10"
            ]
          },
          "metadata": {},
          "execution_count": 35
        }
      ]
    },
    {
      "cell_type": "code",
      "metadata": {
        "colab": {
          "base_uri": "https://localhost:8080/"
        },
        "id": "K1au8wkvD6E5",
        "outputId": "82aa5ae4-ad24-4538-a5b6-16e80f1451e7"
      },
      "source": [
        "def getKali(myList):\n",
        "  x = 2\n",
        "  for item in myList:\n",
        "    x = x*item\n",
        "  return x\n",
        "\n",
        "getKali([1,2,3,4]) "
      ],
      "execution_count": 40,
      "outputs": [
        {
          "output_type": "execute_result",
          "data": {
            "text/plain": [
              "48"
            ]
          },
          "metadata": {},
          "execution_count": 40
        }
      ]
    },
    {
      "cell_type": "code",
      "metadata": {
        "colab": {
          "base_uri": "https://localhost:8080/"
        },
        "id": "7TRs1E-UFixm",
        "outputId": "28eaf4e9-d024-4863-e15d-427d62ec3a19"
      },
      "source": [
        "def getBagi(myList):\n",
        "  y = 100\n",
        "  for item in myList:\n",
        "    y = y/item\n",
        "  return y\n",
        "\n",
        "getBagi([10,5,1]) "
      ],
      "execution_count": 75,
      "outputs": [
        {
          "output_type": "execute_result",
          "data": {
            "text/plain": [
              "2.0"
            ]
          },
          "metadata": {},
          "execution_count": 75
        }
      ]
    },
    {
      "cell_type": "code",
      "metadata": {
        "colab": {
          "base_uri": "https://localhost:8080/"
        },
        "id": "tvaf14wcL385",
        "outputId": "80affe80-35a1-4c75-b23d-e104b61e3e15"
      },
      "source": [
        "def getSum(myList):\n",
        "  sum = 150 \n",
        "  for row in myList:\n",
        "      for item in row:\n",
        "          sum /= item\n",
        "  return sum\n",
        "getSum([[10,3],[5]])"
      ],
      "execution_count": 77,
      "outputs": [
        {
          "output_type": "execute_result",
          "data": {
            "text/plain": [
              "1.0"
            ]
          },
          "metadata": {},
          "execution_count": 77
        }
      ]
    },
    {
      "cell_type": "code",
      "metadata": {
        "colab": {
          "base_uri": "https://localhost:8080/"
        },
        "id": "8FVeNvi7ONdY",
        "outputId": "53dd8b23-2641-4d32-e878-45f9c912986f"
      },
      "source": [
        "def getSum(myList):\n",
        "    sum = 100\n",
        "    for row in myList:\n",
        "        for item in row :\n",
        "            sum -= item\n",
        "    return sum\n",
        "\n",
        "getSum([[12,14,13],[13,12,11]])"
      ],
      "execution_count": 78,
      "outputs": [
        {
          "output_type": "execute_result",
          "data": {
            "text/plain": [
              "25"
            ]
          },
          "metadata": {},
          "execution_count": 78
        }
      ]
    },
    {
      "cell_type": "code",
      "metadata": {
        "colab": {
          "base_uri": "https://localhost:8080/"
        },
        "id": "sinNLypjVnP2",
        "outputId": "8e8d3959-25a2-4ba9-e312-a67fa643bca2"
      },
      "source": [
        "def searchBinary(myList,item):\n",
        "  first=0\n",
        "  last=len(myList)-1\n",
        "  foundFlag=False\n",
        "  while(first<=last and not foundFlag):\n",
        "    mid = (first+last)//2\n",
        "    if myList[mid]==item:\n",
        "      foundFlag=True\n",
        "    else:\n",
        "      if item < myList[mid]:\n",
        "        last=mid-1\n",
        "      else:\n",
        "        first = mid+ 1\n",
        "  return foundFlag\n",
        "\n",
        "searchBinary([8,9,10,100,1000,2000,3000],10)"
      ],
      "execution_count": 79,
      "outputs": [
        {
          "output_type": "execute_result",
          "data": {
            "text/plain": [
              "True"
            ]
          },
          "metadata": {},
          "execution_count": 79
        }
      ]
    }
  ]
}