{
  "nbformat": 4,
  "nbformat_minor": 0,
  "metadata": {
    "colab": {
      "name": "Pertemuan 3.ipynb",
      "provenance": [],
      "collapsed_sections": [],
      "authorship_tag": "ABX9TyNlX2vCldn5vEDT7IhwPaFD",
      "include_colab_link": true
    },
    "kernelspec": {
      "name": "python3",
      "display_name": "Python 3"
    },
    "language_info": {
      "name": "python"
    }
  },
  "cells": [
    {
      "cell_type": "markdown",
      "metadata": {
        "id": "view-in-github",
        "colab_type": "text"
      },
      "source": [
        "<a href=\"https://colab.research.google.com/github/Akbarbfn/Desain-Analis-Dan-Algoritma/blob/main/Pertemuan_3.ipynb\" target=\"_parent\"><img src=\"https://colab.research.google.com/assets/colab-badge.svg\" alt=\"Open In Colab\"/></a>"
      ]
    },
    {
      "cell_type": "code",
      "metadata": {
        "id": "ksOLw8lo767n"
      },
      "source": [
        "import numpy as np"
      ],
      "execution_count": 84,
      "outputs": []
    },
    {
      "cell_type": "code",
      "metadata": {
        "colab": {
          "base_uri": "https://localhost:8080/"
        },
        "id": "E5QiGObizY7u",
        "outputId": "00af9faa-8373-4f27-d02a-31e830e82e40"
      },
      "source": [
        "aList = [\"John\", 33, \"Toronto\", True]\n",
        "print(aList)"
      ],
      "execution_count": null,
      "outputs": [
        {
          "output_type": "stream",
          "name": "stdout",
          "text": [
            "['John', 33, 'Toronto', True]\n"
          ]
        }
      ]
    },
    {
      "cell_type": "code",
      "metadata": {
        "colab": {
          "base_uri": "https://localhost:8080/",
          "height": 35
        },
        "id": "oOHBsYVBf_yI",
        "outputId": "3765a5c0-a34d-4b87-eb3b-53c49ed0cc38"
      },
      "source": [
        "Mahasiswa = [\"Akbar Bafunazair\", 2018071013, \"Informatika\",\"Desain Analisis Algoritma\", \"15 September 2021\" ,\"Universitas Pembangunan Jaya\"]\n",
        "Mahasiswa[1]"
      ],
      "execution_count": 6,
      "outputs": [
        {
          "output_type": "execute_result",
          "data": {
            "application/vnd.google.colaboratory.intrinsic+json": {
              "type": "string"
            },
            "text/plain": [
              "'Green'"
            ]
          },
          "metadata": {},
          "execution_count": 6
        }
      ]
    },
    {
      "cell_type": "code",
      "metadata": {
        "colab": {
          "base_uri": "https://localhost:8080/",
          "height": 35
        },
        "id": "-WYVsuzeg7AL",
        "outputId": "68b3867c-9878-449e-d256-0f48443d5054"
      },
      "source": [
        "Mahasiswa = [\"Akbar Bafunazair\", 2018071013, \"Informatika\",\"Desain Analisis Algoritma\", \"15 September 2021\" ,\"Universitas Pembangunan Jaya\"]\n",
        "Mahasiswa[5]"
      ],
      "execution_count": 9,
      "outputs": [
        {
          "output_type": "execute_result",
          "data": {
            "application/vnd.google.colaboratory.intrinsic+json": {
              "type": "string"
            },
            "text/plain": [
              "'Universitas Pembangunan Jaya'"
            ]
          },
          "metadata": {},
          "execution_count": 9
        }
      ]
    },
    {
      "cell_type": "code",
      "metadata": {
        "colab": {
          "base_uri": "https://localhost:8080/"
        },
        "id": "Qq9HTYhehVtD",
        "outputId": "19b1405d-cab4-4591-96a1-0cc3a0d4bd37"
      },
      "source": [
        "bin_colors = ['Red','Green','Blue','Yellow']\n",
        "bin_colors[0:2]"
      ],
      "execution_count": 13,
      "outputs": [
        {
          "output_type": "execute_result",
          "data": {
            "text/plain": [
              "['Red', 'Green']"
            ]
          },
          "metadata": {},
          "execution_count": 13
        }
      ]
    },
    {
      "cell_type": "code",
      "metadata": {
        "id": "AtxzVPFCji1Q"
      },
      "source": [
        "Mahasiswa = [\"Akbar Bafunazair\", \"2018071013\", \"Informatika\",\"Desain Analisis Algoritma\", \"15 September 2021\" ,\"Universitas Pembangunan Jaya\"]\n",
        "Mahasiswa[1:6]"
      ],
      "execution_count": null,
      "outputs": []
    },
    {
      "cell_type": "code",
      "metadata": {
        "colab": {
          "base_uri": "https://localhost:8080/"
        },
        "id": "ohUBvdxhkeqH",
        "outputId": "7458aae8-0d4a-4732-983b-4c344b41fba9"
      },
      "source": [
        "bin_colors=['Red','Green','Blue','Yellow']\n",
        "for aColor in bin_colors:\n",
        "  print(aColor + \" Square\")"
      ],
      "execution_count": 21,
      "outputs": [
        {
          "output_type": "stream",
          "name": "stdout",
          "text": [
            "Red Square\n",
            "Green Square\n",
            "Blue Square\n",
            "Yellow Square\n"
          ]
        }
      ]
    },
    {
      "cell_type": "code",
      "metadata": {
        "colab": {
          "base_uri": "https://localhost:8080/"
        },
        "id": "-cPaSxPvlVdF",
        "outputId": "1c145228-59ce-40b9-83fa-710877f3c50d"
      },
      "source": [
        "aList = [\"Akbar Bafunazair\", \"2018071013\", \"Informatika\",\"Desain Analisis Algoritma\", \"15 September 2021\" ,\"Universitas Pembangunan Jaya\"]\n",
        "for tampilan in aList:\n",
        "  print(\"UPJ \" + tampilan)"
      ],
      "execution_count": 19,
      "outputs": [
        {
          "output_type": "stream",
          "name": "stdout",
          "text": [
            "UPJ Akbar Bafunazair\n",
            "UPJ 2018071013\n",
            "UPJ Informatika\n",
            "UPJ Desain Analisis Algoritma\n",
            "UPJ 15 September 2021\n",
            "UPJ Universitas Pembangunan Jaya\n"
          ]
        }
      ]
    },
    {
      "cell_type": "code",
      "metadata": {
        "colab": {
          "base_uri": "https://localhost:8080/",
          "height": 35
        },
        "id": "zyJETSi7mdZM",
        "outputId": "33517784-3a2f-4a1a-dcbd-d0361d2f8dd7"
      },
      "source": [
        "bin_colors=('Red','Green','Blue','Yellow')\n",
        "bin_colors[1]"
      ],
      "execution_count": 23,
      "outputs": [
        {
          "output_type": "execute_result",
          "data": {
            "application/vnd.google.colaboratory.intrinsic+json": {
              "type": "string"
            },
            "text/plain": [
              "'Green'"
            ]
          },
          "metadata": {},
          "execution_count": 23
        }
      ]
    },
    {
      "cell_type": "code",
      "metadata": {
        "colab": {
          "base_uri": "https://localhost:8080/"
        },
        "id": "kSuBERiPmsdG",
        "outputId": "2c09490f-4876-46cd-d7d6-9932beade076"
      },
      "source": [
        "bin_colors[1:]"
      ],
      "execution_count": 24,
      "outputs": [
        {
          "output_type": "execute_result",
          "data": {
            "text/plain": [
              "('Green', 'Blue', 'Yellow')"
            ]
          },
          "metadata": {},
          "execution_count": 24
        }
      ]
    },
    {
      "cell_type": "code",
      "metadata": {
        "colab": {
          "base_uri": "https://localhost:8080/"
        },
        "id": "7pj9pg7pmwsm",
        "outputId": "b0f88041-fd80-403a-de17-746842d96c8f"
      },
      "source": [
        "UPJ = (\"Universitas\", \"Pembangunan\",\"Jaya\")\n",
        "UPJ[0:]"
      ],
      "execution_count": 25,
      "outputs": [
        {
          "output_type": "execute_result",
          "data": {
            "text/plain": [
              "('Universitas', 'Pembangunan', 'Jaya')"
            ]
          },
          "metadata": {},
          "execution_count": 25
        }
      ]
    },
    {
      "cell_type": "code",
      "metadata": {
        "colab": {
          "base_uri": "https://localhost:8080/"
        },
        "id": "IWuHFB95sOkT",
        "outputId": "056d3282-7448-41a1-e82b-8977db45ddda"
      },
      "source": [
        "tuple1 = 400\n",
        "tuple2 = 200,400,600\n",
        "tuple3 = 300\n",
        "tuple4 = 400,800\n",
        "\n",
        "print (\"Pertama : \") \n",
        "print(tuple1)\n",
        "print (\"Kedua :\")\n",
        "print(tuple2)\n",
        "print (\"Ketiga : \" )\n",
        "print(tuple3)\n",
        "print (\"Keempat : \" )\n",
        "print(tuple4)"
      ],
      "execution_count": 31,
      "outputs": [
        {
          "output_type": "stream",
          "name": "stdout",
          "text": [
            "Pertama : \n",
            "400\n",
            "Kedua :\n",
            "(200, 400, 600)\n",
            "Ketiga : \n",
            "300\n",
            "Keempat : \n",
            "(400, 800)\n"
          ]
        }
      ]
    },
    {
      "cell_type": "code",
      "metadata": {
        "colab": {
          "base_uri": "https://localhost:8080/"
        },
        "id": "IepkMNEmsRAT",
        "outputId": "114ed51a-c47c-41f5-cd88-e6baa1f89ddf"
      },
      "source": [
        "tuple =([400],[200,400,600],[300],[400,800],\"Angka\")\n",
        "tuple[0:]"
      ],
      "execution_count": 27,
      "outputs": [
        {
          "output_type": "execute_result",
          "data": {
            "text/plain": [
              "([400], [200, 400, 600], [300], [400, 800], 'Angka')"
            ]
          },
          "metadata": {},
          "execution_count": 27
        }
      ]
    },
    {
      "cell_type": "code",
      "metadata": {
        "colab": {
          "base_uri": "https://localhost:8080/"
        },
        "id": "E2sO2QVssTNE",
        "outputId": "75421085-f60d-4564-b18d-5c952cf1f8dc"
      },
      "source": [
        "bin_colors ={\n",
        "    \"manual_color\":\"Yellow\",\n",
        "    \"approved_color\":\"Green\",\n",
        "    \"refused_color\":\"Red\"\n",
        "}\n",
        "\n",
        "print(bin_colors)"
      ],
      "execution_count": 28,
      "outputs": [
        {
          "output_type": "stream",
          "name": "stdout",
          "text": [
            "{'manual_color': 'Yellow', 'approved_color': 'Green', 'refused_color': 'Red'}\n"
          ]
        }
      ]
    },
    {
      "cell_type": "code",
      "metadata": {
        "colab": {
          "base_uri": "https://localhost:8080/",
          "height": 35
        },
        "id": "KX7_QsqnsiIP",
        "outputId": "a693a5d3-4fef-4983-9141-b7b9fc4a7637"
      },
      "source": [
        "bin_colors.get('approved_color')"
      ],
      "execution_count": 33,
      "outputs": [
        {
          "output_type": "execute_result",
          "data": {
            "application/vnd.google.colaboratory.intrinsic+json": {
              "type": "string"
            },
            "text/plain": [
              "'Green'"
            ]
          },
          "metadata": {},
          "execution_count": 33
        }
      ]
    },
    {
      "cell_type": "code",
      "metadata": {
        "colab": {
          "base_uri": "https://localhost:8080/",
          "height": 35
        },
        "id": "W27IYIcctksY",
        "outputId": "65328d4b-559a-442a-b3c2-2fb2e3bddd94"
      },
      "source": [
        "bin_colors['approved_color']"
      ],
      "execution_count": 34,
      "outputs": [
        {
          "output_type": "execute_result",
          "data": {
            "application/vnd.google.colaboratory.intrinsic+json": {
              "type": "string"
            },
            "text/plain": [
              "'Green'"
            ]
          },
          "metadata": {},
          "execution_count": 34
        }
      ]
    },
    {
      "cell_type": "code",
      "metadata": {
        "colab": {
          "base_uri": "https://localhost:8080/"
        },
        "id": "Th5KHggCuKlV",
        "outputId": "95fa0257-d168-457f-88fb-4e337b174238"
      },
      "source": [
        "bin_colors['approved_color']=\"White\"\n",
        "\n",
        "print(bin_colors)"
      ],
      "execution_count": 36,
      "outputs": [
        {
          "output_type": "stream",
          "name": "stdout",
          "text": [
            "{'manual_color': 'Yellow', 'approved_color': 'White', 'refused_color': 'Red'}\n"
          ]
        }
      ]
    },
    {
      "cell_type": "code",
      "metadata": {
        "colab": {
          "base_uri": "https://localhost:8080/"
        },
        "id": "PMCBqiiyvdac",
        "outputId": "e3271457-3619-40b1-dbba-8ecb7c97225e"
      },
      "source": [
        "Mahasiswa ={\n",
        "    \"Nama\":\"Akbar Bafunazair\",\n",
        "    \"NIM\" :\"2018071013\",\n",
        "    \"Prodi\" : \"Informatika\",\n",
        "    \"Universitas\" : \"Universitas Pembangunan Jaya\"\n",
        "}\n",
        "print(Mahasiswa)"
      ],
      "execution_count": 40,
      "outputs": [
        {
          "output_type": "stream",
          "name": "stdout",
          "text": [
            "{'Nama': 'Akbar Bafunazair', 'NIM': '2018071013', 'Prodi': 'Informatika', 'Universitas': 'Universitas Pembangunan Jaya'}\n"
          ]
        }
      ]
    },
    {
      "cell_type": "code",
      "metadata": {
        "colab": {
          "base_uri": "https://localhost:8080/"
        },
        "id": "2VFaikY_wb4W",
        "outputId": "b26b3b84-6319-47eb-e843-748a28ce1bea"
      },
      "source": [
        "green = {'Grass','leaves'}\n",
        "print(green)"
      ],
      "execution_count": 51,
      "outputs": [
        {
          "output_type": "stream",
          "name": "stdout",
          "text": [
            "{'leaves', 'Grass'}\n"
          ]
        }
      ]
    },
    {
      "cell_type": "code",
      "metadata": {
        "colab": {
          "base_uri": "https://localhost:8080/"
        },
        "id": "-sGiXvt-x3nx",
        "outputId": "b0f2bcd8-6e42-4426-c891-34ecab612d23"
      },
      "source": [
        "green = {'Leaves','Grass','Grass'}\n",
        "print(green)"
      ],
      "execution_count": 60,
      "outputs": [
        {
          "output_type": "stream",
          "name": "stdout",
          "text": [
            "{'Leaves', 'Grass'}\n"
          ]
        }
      ]
    },
    {
      "cell_type": "code",
      "metadata": {
        "colab": {
          "base_uri": "https://localhost:8080/"
        },
        "id": "XHuW-V64ytjV",
        "outputId": "67fd5c32-ec1e-4cb9-ca45-4c76c087f313"
      },
      "source": [
        "yellow = {'dandelions','fire hydrant','leaves'}\n",
        "red = {'fire hydrant','rose','blood','leaves'}\n",
        "print(yellow | red)\n",
        "print(yellow & red)"
      ],
      "execution_count": 61,
      "outputs": [
        {
          "output_type": "stream",
          "name": "stdout",
          "text": [
            "{'rose', 'fire hydrant', 'leaves', 'blood', 'dandelions'}\n",
            "{'leaves', 'fire hydrant'}\n"
          ]
        }
      ]
    },
    {
      "cell_type": "code",
      "metadata": {
        "id": "TFR0m5Dd1KLI"
      },
      "source": [
        "import pandas as pd\n",
        "\n",
        "df=pd.DataFrame([\n",
        "  ['1','Fares',32,True],\n",
        "  ['2','Elena',23,False],\n",
        "  ['3','Steven',40,True]])"
      ],
      "execution_count": 64,
      "outputs": []
    },
    {
      "cell_type": "code",
      "metadata": {
        "colab": {
          "base_uri": "https://localhost:8080/",
          "height": 142
        },
        "id": "SNoR62Ra5QE6",
        "outputId": "8c7364d8-c8c0-423d-e132-7b6b15accc63"
      },
      "source": [
        "df.columns = ['id','name','age','decision']\n",
        "df"
      ],
      "execution_count": 65,
      "outputs": [
        {
          "output_type": "execute_result",
          "data": {
            "text/html": [
              "<div>\n",
              "<style scoped>\n",
              "    .dataframe tbody tr th:only-of-type {\n",
              "        vertical-align: middle;\n",
              "    }\n",
              "\n",
              "    .dataframe tbody tr th {\n",
              "        vertical-align: top;\n",
              "    }\n",
              "\n",
              "    .dataframe thead th {\n",
              "        text-align: right;\n",
              "    }\n",
              "</style>\n",
              "<table border=\"1\" class=\"dataframe\">\n",
              "  <thead>\n",
              "    <tr style=\"text-align: right;\">\n",
              "      <th></th>\n",
              "      <th>id</th>\n",
              "      <th>name</th>\n",
              "      <th>age</th>\n",
              "      <th>decision</th>\n",
              "    </tr>\n",
              "  </thead>\n",
              "  <tbody>\n",
              "    <tr>\n",
              "      <th>0</th>\n",
              "      <td>1</td>\n",
              "      <td>Fares</td>\n",
              "      <td>32</td>\n",
              "      <td>True</td>\n",
              "    </tr>\n",
              "    <tr>\n",
              "      <th>1</th>\n",
              "      <td>2</td>\n",
              "      <td>Elena</td>\n",
              "      <td>23</td>\n",
              "      <td>False</td>\n",
              "    </tr>\n",
              "    <tr>\n",
              "      <th>2</th>\n",
              "      <td>3</td>\n",
              "      <td>Steven</td>\n",
              "      <td>40</td>\n",
              "      <td>True</td>\n",
              "    </tr>\n",
              "  </tbody>\n",
              "</table>\n",
              "</div>"
            ],
            "text/plain": [
              "  id    name  age  decision\n",
              "0  1   Fares   32      True\n",
              "1  2   Elena   23     False\n",
              "2  3  Steven   40      True"
            ]
          },
          "metadata": {},
          "execution_count": 65
        }
      ]
    },
    {
      "cell_type": "code",
      "metadata": {
        "colab": {
          "base_uri": "https://localhost:8080/",
          "height": 142
        },
        "id": "_roApB7n5S-l",
        "outputId": "0b603303-9a24-4fa5-ec69-b6c042987431"
      },
      "source": [
        "df[['name','age']]"
      ],
      "execution_count": 66,
      "outputs": [
        {
          "output_type": "execute_result",
          "data": {
            "text/html": [
              "<div>\n",
              "<style scoped>\n",
              "    .dataframe tbody tr th:only-of-type {\n",
              "        vertical-align: middle;\n",
              "    }\n",
              "\n",
              "    .dataframe tbody tr th {\n",
              "        vertical-align: top;\n",
              "    }\n",
              "\n",
              "    .dataframe thead th {\n",
              "        text-align: right;\n",
              "    }\n",
              "</style>\n",
              "<table border=\"1\" class=\"dataframe\">\n",
              "  <thead>\n",
              "    <tr style=\"text-align: right;\">\n",
              "      <th></th>\n",
              "      <th>name</th>\n",
              "      <th>age</th>\n",
              "    </tr>\n",
              "  </thead>\n",
              "  <tbody>\n",
              "    <tr>\n",
              "      <th>0</th>\n",
              "      <td>Fares</td>\n",
              "      <td>32</td>\n",
              "    </tr>\n",
              "    <tr>\n",
              "      <th>1</th>\n",
              "      <td>Elena</td>\n",
              "      <td>23</td>\n",
              "    </tr>\n",
              "    <tr>\n",
              "      <th>2</th>\n",
              "      <td>Steven</td>\n",
              "      <td>40</td>\n",
              "    </tr>\n",
              "  </tbody>\n",
              "</table>\n",
              "</div>"
            ],
            "text/plain": [
              "     name  age\n",
              "0   Fares   32\n",
              "1   Elena   23\n",
              "2  Steven   40"
            ]
          },
          "metadata": {},
          "execution_count": 66
        }
      ]
    },
    {
      "cell_type": "code",
      "metadata": {
        "colab": {
          "base_uri": "https://localhost:8080/"
        },
        "id": "jd-RrnST5V2L",
        "outputId": "5373c99b-86e5-4f82-cb79-3eebca884feb"
      },
      "source": [
        "df.iloc[:,3]"
      ],
      "execution_count": 67,
      "outputs": [
        {
          "output_type": "execute_result",
          "data": {
            "text/plain": [
              "0     True\n",
              "1    False\n",
              "2     True\n",
              "Name: decision, dtype: bool"
            ]
          },
          "metadata": {},
          "execution_count": 67
        }
      ]
    },
    {
      "cell_type": "code",
      "metadata": {
        "id": "ZceM-1IQ5vB5"
      },
      "source": [
        "mahasiswa=pd.DataFrame([\n",
        "  ['1','Informatika',50 ,30 ,20,],\n",
        "  ['2','Sistem Informasi',55 ,30 ,25,],\n",
        "  ['3','Teknik Sipil',40 ,30 ,10,]])"
      ],
      "execution_count": 80,
      "outputs": []
    },
    {
      "cell_type": "code",
      "metadata": {
        "colab": {
          "base_uri": "https://localhost:8080/",
          "height": 142
        },
        "id": "HXWYx3A266p_",
        "outputId": "a7ed69a5-ffb6-428e-d754-4e113ff3fd15"
      },
      "source": [
        "mahasiswa.column = ['Prodi','Mahasiswa','Laki - Laki','Perempuan']\n",
        "mahasiswa"
      ],
      "execution_count": 83,
      "outputs": [
        {
          "output_type": "execute_result",
          "data": {
            "text/html": [
              "<div>\n",
              "<style scoped>\n",
              "    .dataframe tbody tr th:only-of-type {\n",
              "        vertical-align: middle;\n",
              "    }\n",
              "\n",
              "    .dataframe tbody tr th {\n",
              "        vertical-align: top;\n",
              "    }\n",
              "\n",
              "    .dataframe thead th {\n",
              "        text-align: right;\n",
              "    }\n",
              "</style>\n",
              "<table border=\"1\" class=\"dataframe\">\n",
              "  <thead>\n",
              "    <tr style=\"text-align: right;\">\n",
              "      <th></th>\n",
              "      <th>0</th>\n",
              "      <th>1</th>\n",
              "      <th>2</th>\n",
              "      <th>3</th>\n",
              "      <th>4</th>\n",
              "    </tr>\n",
              "  </thead>\n",
              "  <tbody>\n",
              "    <tr>\n",
              "      <th>0</th>\n",
              "      <td>1</td>\n",
              "      <td>Informatika</td>\n",
              "      <td>50</td>\n",
              "      <td>30</td>\n",
              "      <td>20</td>\n",
              "    </tr>\n",
              "    <tr>\n",
              "      <th>1</th>\n",
              "      <td>2</td>\n",
              "      <td>Sistem Informasi</td>\n",
              "      <td>55</td>\n",
              "      <td>30</td>\n",
              "      <td>25</td>\n",
              "    </tr>\n",
              "    <tr>\n",
              "      <th>2</th>\n",
              "      <td>3</td>\n",
              "      <td>Teknik Sipil</td>\n",
              "      <td>40</td>\n",
              "      <td>30</td>\n",
              "      <td>10</td>\n",
              "    </tr>\n",
              "  </tbody>\n",
              "</table>\n",
              "</div>"
            ],
            "text/plain": [
              "   0                 1   2   3   4\n",
              "0  1       Informatika  50  30  20\n",
              "1  2  Sistem Informasi  55  30  25\n",
              "2  3      Teknik Sipil  40  30  10"
            ]
          },
          "metadata": {},
          "execution_count": 83
        }
      ]
    },
    {
      "cell_type": "code",
      "metadata": {
        "colab": {
          "base_uri": "https://localhost:8080/"
        },
        "id": "CyzEfDIR7qQk",
        "outputId": "a4b07aed-5ed4-4d1b-f5a2-c2e49527b4bd"
      },
      "source": [
        "myMatrix = np.array([[11,12,13],[21,22,23],[31,32,33]])\n",
        "print(myMatrix)"
      ],
      "execution_count": 85,
      "outputs": [
        {
          "output_type": "stream",
          "name": "stdout",
          "text": [
            "[[11 12 13]\n",
            " [21 22 23]\n",
            " [31 32 33]]\n"
          ]
        }
      ]
    },
    {
      "cell_type": "code",
      "metadata": {
        "colab": {
          "base_uri": "https://localhost:8080/"
        },
        "id": "aCrUADRf8MJr",
        "outputId": "9680a9cc-7e34-46d8-cdc8-96c7f750bb70"
      },
      "source": [
        "print(type(myMatrix))"
      ],
      "execution_count": 88,
      "outputs": [
        {
          "output_type": "stream",
          "name": "stdout",
          "text": [
            "<class 'numpy.ndarray'>\n"
          ]
        }
      ]
    },
    {
      "cell_type": "code",
      "metadata": {
        "colab": {
          "base_uri": "https://localhost:8080/"
        },
        "id": "qKDCs25r9AFH",
        "outputId": "65991100-6c5b-4545-cb9b-ea46806bd85d"
      },
      "source": [
        "myMatrix = np.array([[100,200,300],[700,600,500],[900,1000,800]])\n",
        "print(myMatrix)"
      ],
      "execution_count": 89,
      "outputs": [
        {
          "output_type": "stream",
          "name": "stdout",
          "text": [
            "[[ 100  200  300]\n",
            " [ 700  600  500]\n",
            " [ 900 1000  800]]\n"
          ]
        }
      ]
    },
    {
      "cell_type": "code",
      "metadata": {
        "colab": {
          "base_uri": "https://localhost:8080/"
        },
        "id": "3AIdO1lYGHxM",
        "outputId": "1eb5a405-6a43-4a82-ba93-9bed33d558c6"
      },
      "source": [
        "class Stack:\n",
        "    def __init__(self):\n",
        "        self.items=[]\n",
        "    def isEmpty(self):\n",
        "        return self.items==[]\n",
        "    def push(self,item):\n",
        "        self.items.append(item)\n",
        "    def pop(self):\n",
        "        return self.items.pop()\n",
        "    def peek(self):\n",
        "        return self.items[len(self.items0)-l]\n",
        "    def size(self):\n",
        "        return len(self.items)\n",
        "stack=Stack()\n",
        "stack.push('Red')\n",
        "stack.push('Green')\n",
        "stack.push('Blue')\n",
        "stack.push('Yellow')\n",
        "print(stack.pop())\n",
        "print(stack.isEmpty())"
      ],
      "execution_count": 94,
      "outputs": [
        {
          "output_type": "stream",
          "name": "stdout",
          "text": [
            "Yellow\n",
            "False\n"
          ]
        }
      ]
    },
    {
      "cell_type": "code",
      "metadata": {
        "colab": {
          "base_uri": "https://localhost:8080/"
        },
        "id": "hr7pDdY7C8P6",
        "outputId": "73afd838-6df8-4b8a-9324-6f36be6e9124"
      },
      "source": [
        "class Queue(object):\n",
        "  def __init__(self):\n",
        "    self.items =[]\n",
        "  def isEmpty(self):\n",
        "    return self.items == []\n",
        "  def enqueue(self, item):\n",
        "    self.items.insert(0,item)\n",
        "  def dequeue(self):\n",
        "    return self.items.pop()\n",
        "  def size(self):\n",
        "    return len(self.items)\n",
        "\n",
        "queue = Queue()\n",
        "queue.enqueue('Red')\n",
        "queue.enqueue('Green')\n",
        "queue.enqueue('Blue')\n",
        "queue.enqueue('Yellow')\n",
        "\n",
        "print(queue.size())"
      ],
      "execution_count": 93,
      "outputs": [
        {
          "output_type": "stream",
          "name": "stdout",
          "text": [
            "4\n"
          ]
        }
      ]
    }
  ]
}