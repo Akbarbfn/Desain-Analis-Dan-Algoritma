{
  "nbformat": 4,
  "nbformat_minor": 0,
  "metadata": {
    "colab": {
      "name": "Pertemuan_9.ipynb",
      "provenance": [],
      "authorship_tag": "ABX9TyMncyWOsiKIYI5cs4MrLROR",
      "include_colab_link": true
    },
    "kernelspec": {
      "name": "python3",
      "display_name": "Python 3"
    },
    "language_info": {
      "name": "python"
    }
  },
  "cells": [
    {
      "cell_type": "markdown",
      "metadata": {
        "id": "view-in-github",
        "colab_type": "text"
      },
      "source": [
        "<a href=\"https://colab.research.google.com/github/Akbarbfn/Desain-Analis-Dan-Algoritma/blob/main/Pertemuan_9.ipynb\" target=\"_parent\"><img src=\"https://colab.research.google.com/assets/colab-badge.svg\" alt=\"Open In Colab\"/></a>"
      ]
    },
    {
      "cell_type": "code",
      "metadata": {
        "colab": {
          "base_uri": "https://localhost:8080/"
        },
        "id": "m4vpKmYA0chy",
        "outputId": "85a3f87f-f38e-4cb0-c56f-c2d7aa7921dd"
      },
      "source": [
        "pip install networkx"
      ],
      "execution_count": 31,
      "outputs": [
        {
          "output_type": "stream",
          "name": "stdout",
          "text": [
            "Requirement already satisfied: networkx in /usr/local/lib/python3.7/dist-packages (2.6.3)\n"
          ]
        }
      ]
    },
    {
      "cell_type": "code",
      "metadata": {
        "id": "i7UKQQxgvlXN"
      },
      "source": [
        "import numpy as np\n",
        "import networkx as nx\n",
        "import matplotlib.pyplot as plt\n",
        "%matplotlib inline"
      ],
      "execution_count": 32,
      "outputs": []
    },
    {
      "cell_type": "code",
      "metadata": {
        "id": "Io7M0EB40l_O"
      },
      "source": [
        "myWeb = nx.DiGraph()\n",
        "myPages = range(1,5)"
      ],
      "execution_count": 33,
      "outputs": []
    },
    {
      "cell_type": "code",
      "metadata": {
        "id": "EmJ6rEnq1SWh"
      },
      "source": [
        "connections = [(1,3),(2,1),(2,3),(3,1),(3,2),(3,4),(4,5),(5,1),(5,4)]\n",
        "myWeb.add_nodes_from(myPages)\n",
        "myWeb.add_edges_from(connections)"
      ],
      "execution_count": 42,
      "outputs": []
    },
    {
      "cell_type": "code",
      "metadata": {
        "colab": {
          "base_uri": "https://localhost:8080/",
          "height": 319
        },
        "id": "HK2J4GqI2s3f",
        "outputId": "ba82c2b4-a0d4-4c8a-8e61-50a0ab7b9d5c"
      },
      "source": [
        "pos=nx.shell_layout(myWeb)\n",
        "nx.draw(myWeb, pos, arrows=True, with_labels=True)\n",
        "plt.show()"
      ],
      "execution_count": 43,
      "outputs": [
        {
          "output_type": "display_data",
          "data": {
            "image/png": "[encoded data removed]",
            "text/plain": [
              "<Figure size 432x288 with 1 Axes>"
            ]
          },
          "metadata": {}
        }
      ]
    },
    {
      "cell_type": "code",
      "metadata": {
        "id": "nRPYb1wt5AAp"
      },
      "source": [
        "def createPageRank(aGraph):\n",
        "    nodes_set = len(aGraph)\n",
        "    M = nx.to_numpy_matrix(aGraph)\n",
        "    outwards = np.squeeze(np.asarray(np.sum(M, axis = 1 )))\n",
        "    prob_outwards = np.array(\n",
        "        [1.0/count\n",
        "         if count>0 else 0.0 for count in outwards])\n",
        "    G = np.asarray(np.multiply(M.T, prob_outwards))\n",
        "    p = np.ones(nodes_set)/float(nodes_set)\n",
        "    if np.min(np.sum(G,axis=0)) < 1.0:\n",
        "      print('WARN: G is substochastic')\n",
        "    return G,p"
      ],
      "execution_count": 37,
      "outputs": []
    },
    {
      "cell_type": "code",
      "metadata": {
        "colab": {
          "base_uri": "https://localhost:8080/"
        },
        "id": "nn9XKG9x8J9C",
        "outputId": "a0d31c1a-ddf4-4b9b-c417-35b03786efd6"
      },
      "source": [
        "G, p = createPageRank(myWeb)\n",
        "print(G)"
      ],
      "execution_count": 38,
      "outputs": [
        {
          "output_type": "stream",
          "name": "stdout",
          "text": [
            "[[0.         0.5        0.33333333 0.         0.5       ]\n",
            " [0.         0.         0.33333333 0.         0.        ]\n",
            " [1.         0.5        0.         0.         0.        ]\n",
            " [0.         0.         0.33333333 0.         0.5       ]\n",
            " [0.         0.         0.         1.         0.        ]]\n"
          ]
        }
      ]
    },
    {
      "cell_type": "code",
      "metadata": {
        "id": "RCURPGpPCjDQ"
      },
      "source": [
        "myWeb = nx.DiGraph()\n",
        "myPages = range(1,5)"
      ],
      "execution_count": 55,
      "outputs": []
    },
    {
      "cell_type": "code",
      "metadata": {
        "id": "D0_i93Uj8fX1"
      },
      "source": [
        "connections = [(1,2),(2,3),(3,4),(4,5),(5,6)]\n",
        "myWeb.add_nodes_from(myPages)\n",
        "myWeb.add_edges_from(connections)"
      ],
      "execution_count": 58,
      "outputs": []
    },
    {
      "cell_type": "code",
      "metadata": {
        "colab": {
          "base_uri": "https://localhost:8080/",
          "height": 319
        },
        "id": "r5jEjEVACiIC",
        "outputId": "00070644-1638-44c0-9427-a2d2d393d4c1"
      },
      "source": [
        "pos=nx.spiral_layout(myWeb)\n",
        "nx.draw(myWeb, pos, arrows=True, with_labels=True)\n",
        "plt.show()"
      ],
      "execution_count": 60,
      "outputs": [
        {
          "output_type": "display_data",
          "data": {
            "image/png": "[encoded data removed]",
            "text/plain": [
              "<Figure size 432x288 with 1 Axes>"
            ]
          },
          "metadata": {}
        }
      ]
    },
    {
      "cell_type": "code",
      "metadata": {
        "id": "0W9vZbYAEt1C"
      },
      "source": [
        "myWeb = nx.DiGraph()\n",
        "myPages = range(1,4)"
      ],
      "execution_count": 63,
      "outputs": []
    },
    {
      "cell_type": "code",
      "metadata": {
        "id": "Dli6KhWND5T-"
      },
      "source": [
        "connections = [(1,2),(2,3),(3,4),(4,5),(5,1)]\n",
        "myWeb.add_nodes_from(myPages)\n",
        "myWeb.add_edges_from(connections)"
      ],
      "execution_count": 64,
      "outputs": []
    },
    {
      "cell_type": "code",
      "metadata": {
        "colab": {
          "base_uri": "https://localhost:8080/",
          "height": 319
        },
        "id": "0FVGVgDeEmK8",
        "outputId": "10d1a6b6-da3e-4cea-809c-b57399ad1ba2"
      },
      "source": [
        "pos=nx.shell_layout(myWeb)\n",
        "nx.draw(myWeb, pos, arrows=True, with_labels=True)\n",
        "plt.show()"
      ],
      "execution_count": 70,
      "outputs": [
        {
          "output_type": "display_data",
          "data": {
            "image/png": "[encoded data removed]",
            "text/plain": [
              "<Figure size 432x288 with 1 Axes>"
            ]
          },
          "metadata": {}
        }
      ]
    },
    {
      "cell_type": "code",
      "metadata": {
        "id": "8mSeLJ-iM6Pk"
      },
      "source": [
        "def createPageRank(aGraph):\n",
        "    nodes_set = len(aGraph)\n",
        "    M = nx.to_numpy_matrix(aGraph)\n",
        "    outwards = np.squeeze(np.asarray(np.sum(M, axis = 1 )))\n",
        "    prob_outwards = np.array(\n",
        "        [1.0/count\n",
        "         if count>0 else 0.0 for count in outwards])\n",
        "    G = np.asarray(np.multiply(M.T, prob_outwards))\n",
        "    p = np.ones(nodes_set)/float(nodes_set)\n",
        "    if np.min(np.sum(G,axis=0)) < 1.0:\n",
        "      print('WARN: G is substochastic')\n",
        "    return G,p"
      ],
      "execution_count": 120,
      "outputs": []
    },
    {
      "cell_type": "code",
      "metadata": {
        "colab": {
          "base_uri": "https://localhost:8080/"
        },
        "id": "drtieRBOM7EU",
        "outputId": "7dfcd929-bc3a-42e4-e793-08d450a134da"
      },
      "source": [
        "G, p = createPageRank(myWeb)\n",
        "print(G)"
      ],
      "execution_count": 119,
      "outputs": [
        {
          "output_type": "stream",
          "name": "stdout",
          "text": [
            "[[0.  0.  0.  0.5 1. ]\n",
            " [1.  0.  0.  0.  0. ]\n",
            " [0.  1.  0.  0.  0. ]\n",
            " [0.  0.  1.  0.  0. ]\n",
            " [0.  0.  0.  0.5 0. ]]\n"
          ]
        }
      ]
    },
    {
      "cell_type": "code",
      "metadata": {
        "id": "DikkpC5XFK5N"
      },
      "source": [
        "myWeb = nx.DiGraph()\n",
        "myPages = range(1,4)"
      ],
      "execution_count": 94,
      "outputs": []
    },
    {
      "cell_type": "code",
      "metadata": {
        "id": "KI6wr-KzF7Vn"
      },
      "source": [
        "connections = [(1,2),(2,1),(2,3),(3,2),(3,4),(4,3)]\n",
        "myWeb.add_nodes_from(myPages)\n",
        "myWeb.add_edges_from(connections)"
      ],
      "execution_count": 95,
      "outputs": []
    },
    {
      "cell_type": "code",
      "metadata": {
        "colab": {
          "base_uri": "https://localhost:8080/",
          "height": 319
        },
        "id": "stLviukXF8xs",
        "outputId": "9e188319-8428-4287-9689-e9a73d8ab2b9"
      },
      "source": [
        "pos=nx.kamada_kawai_layout(myWeb)\n",
        "nx.draw(myWeb, pos, arrows=True, with_labels=True)\n",
        "plt.show()"
      ],
      "execution_count": 96,
      "outputs": [
        {
          "output_type": "display_data",
          "data": {
            "image/png": "[encoded data removed]",
            "text/plain": [
              "<Figure size 432x288 with 1 Axes>"
            ]
          },
          "metadata": {}
        }
      ]
    },
    {
      "cell_type": "code",
      "metadata": {
        "id": "TlruIaVcG5bf"
      },
      "source": [
        "def createPageRank(aGraph):\n",
        "    nodes_set = len(aGraph)\n",
        "    M = nx.to_numpy_matrix(aGraph)\n",
        "    outwards = np.squeeze(np.asarray(np.sum(M, axis = 1 )))\n",
        "    prob_outwards = np.array(\n",
        "        [1.0/count\n",
        "         if count>0 else 0.0 for count in outwards])\n",
        "    G = np.asarray(np.multiply(M.T, prob_outwards))\n",
        "    p = np.ones(nodes_set)/float(nodes_set)\n",
        "    if np.min(np.sum(G,axis=0)) < 1.0:\n",
        "      print('WARN: G is substochastic')\n",
        "    return G,p"
      ],
      "execution_count": 97,
      "outputs": []
    },
    {
      "cell_type": "code",
      "metadata": {
        "colab": {
          "base_uri": "https://localhost:8080/"
        },
        "id": "4vu5LDAsG9Hp",
        "outputId": "eaa38332-d988-4f96-922d-b6dfbbc32dc3"
      },
      "source": [
        "G, p = createPageRank(myWeb)\n",
        "print(G)"
      ],
      "execution_count": 98,
      "outputs": [
        {
          "output_type": "stream",
          "name": "stdout",
          "text": [
            "[[0.  0.5 0.  0. ]\n",
            " [1.  0.  0.5 0. ]\n",
            " [0.  0.5 0.  1. ]\n",
            " [0.  0.  0.5 0. ]]\n"
          ]
        }
      ]
    },
    {
      "cell_type": "code",
      "metadata": {
        "id": "7yii3UdDGet2"
      },
      "source": [
        "myWeb = nx.DiGraph()\n",
        "myPages = range(1,5)"
      ],
      "execution_count": 104,
      "outputs": []
    },
    {
      "cell_type": "code",
      "metadata": {
        "id": "nMXbU_yvGkOd"
      },
      "source": [
        "connections = [(1,2),(2,3),(3,4),(4,5),(5,6),(6,1)]\n",
        "myWeb.add_nodes_from(myPages)\n",
        "myWeb.add_edges_from(connections)"
      ],
      "execution_count": 105,
      "outputs": []
    },
    {
      "cell_type": "code",
      "metadata": {
        "colab": {
          "base_uri": "https://localhost:8080/",
          "height": 319
        },
        "id": "geMr-Yo6Gm9q",
        "outputId": "5f7ed076-4330-4e54-cb5c-57e1e127ec4c"
      },
      "source": [
        "pos=nx.shell_layout(myWeb)\n",
        "nx.draw(myWeb, pos, arrows=True, with_labels=True)\n",
        "plt.show()"
      ],
      "execution_count": 106,
      "outputs": [
        {
          "output_type": "display_data",
          "data": {
            "image/png": "[encoded data removed]",
            "text/plain": [
              "<Figure size 432x288 with 1 Axes>"
            ]
          },
          "metadata": {}
        }
      ]
    },
    {
      "cell_type": "code",
      "metadata": {
        "id": "A5jjreBEIyYf"
      },
      "source": [
        "def createPageRank(aGraph):\n",
        "    nodes_set = len(aGraph)\n",
        "    M = nx.to_numpy_matrix(aGraph)\n",
        "    outwards = np.squeeze(np.asarray(np.sum(M, axis = 1 )))\n",
        "    prob_outwards = np.array(\n",
        "        [1.0/count\n",
        "         if count>0 else 0.0 for count in outwards])\n",
        "    G = np.asarray(np.multiply(M.T, prob_outwards))\n",
        "    p = np.ones(nodes_set)/float(nodes_set)\n",
        "    if np.min(np.sum(G,axis=0)) < 1.0:\n",
        "      print('WARN: G is substochastic')\n",
        "    return G,p"
      ],
      "execution_count": 107,
      "outputs": []
    },
    {
      "cell_type": "code",
      "metadata": {
        "colab": {
          "base_uri": "https://localhost:8080/"
        },
        "id": "qUB4UkC_I0rm",
        "outputId": "a3157b67-b685-4caf-f276-7303ab6b895d"
      },
      "source": [
        "G, p = createPageRank(myWeb)\n",
        "print(G)"
      ],
      "execution_count": 108,
      "outputs": [
        {
          "output_type": "stream",
          "name": "stdout",
          "text": [
            "[[0. 0. 0. 0. 0. 1.]\n",
            " [1. 0. 0. 0. 0. 0.]\n",
            " [0. 1. 0. 0. 0. 0.]\n",
            " [0. 0. 1. 0. 0. 0.]\n",
            " [0. 0. 0. 1. 0. 0.]\n",
            " [0. 0. 0. 0. 1. 0.]]\n"
          ]
        }
      ]
    },
    {
      "cell_type": "code",
      "metadata": {
        "id": "bUjYav6-KwfX"
      },
      "source": [
        "myWeb = nx.DiGraph()\n",
        "myPages = range(1,3)"
      ],
      "execution_count": 109,
      "outputs": []
    },
    {
      "cell_type": "code",
      "metadata": {
        "id": "APIBKcQvKyoe"
      },
      "source": [
        "connections = [(1,2),(2,1),(2,3),(3,2),(3,4),(4,3),(4,1)]\n",
        "myWeb.add_nodes_from(myPages)\n",
        "myWeb.add_edges_from(connections)"
      ],
      "execution_count": 110,
      "outputs": []
    },
    {
      "cell_type": "code",
      "metadata": {
        "colab": {
          "base_uri": "https://localhost:8080/",
          "height": 319
        },
        "id": "1YeeU-EQK05o",
        "outputId": "f9e48a63-7e2c-4ad3-b598-32de4bff3640"
      },
      "source": [
        "pos=nx.shell_layout(myWeb)\n",
        "nx.draw(myWeb, pos, arrows=True, with_labels=True)\n",
        "plt.show()"
      ],
      "execution_count": 111,
      "outputs": [
        {
          "output_type": "display_data",
          "data": {
            "image/png": "[encoded data removed]",
            "text/plain": [
              "<Figure size 432x288 with 1 Axes>"
            ]
          },
          "metadata": {}
        }
      ]
    },
    {
      "cell_type": "code",
      "metadata": {
        "id": "Y52JPKJTLuoq"
      },
      "source": [
        "def createPageRank(aGraph):\n",
        "    nodes_set = len(aGraph)\n",
        "    M = nx.to_numpy_matrix(aGraph)\n",
        "    outwards = np.squeeze(np.asarray(np.sum(M, axis = 1 )))\n",
        "    prob_outwards = np.array(\n",
        "        [1.0/count\n",
        "         if count>0 else 0.0 for count in outwards])\n",
        "    G = np.asarray(np.multiply(M.T, prob_outwards))\n",
        "    p = np.ones(nodes_set)/float(nodes_set)\n",
        "    if np.min(np.sum(G,axis=0)) < 1.0:\n",
        "      print('WARN: G is substochastic')\n",
        "    return G,p"
      ],
      "execution_count": 112,
      "outputs": []
    },
    {
      "cell_type": "code",
      "metadata": {
        "colab": {
          "base_uri": "https://localhost:8080/"
        },
        "id": "fV0m6O-cLxD0",
        "outputId": "b3d49eb7-614e-4957-b71f-c94b70cec5b5"
      },
      "source": [
        "G, p = createPageRank(myWeb)\n",
        "print(G)"
      ],
      "execution_count": 113,
      "outputs": [
        {
          "output_type": "stream",
          "name": "stdout",
          "text": [
            "[[0.  0.5 0.  0.5]\n",
            " [1.  0.  0.5 0. ]\n",
            " [0.  0.5 0.  0.5]\n",
            " [0.  0.  0.5 0. ]]\n"
          ]
        }
      ]
    },
    {
      "cell_type": "code",
      "metadata": {
        "id": "79BsmUDCMMQa"
      },
      "source": [
        "myWeb = nx.DiGraph()\n",
        "myPages = range(1,5)"
      ],
      "execution_count": 114,
      "outputs": []
    },
    {
      "cell_type": "code",
      "metadata": {
        "id": "sDQYll4fMReo"
      },
      "source": [
        "connections = [(1,2),(2,3),(3,4),(4,1),(4,5),(5,1)]\n",
        "myWeb.add_nodes_from(myPages)\n",
        "myWeb.add_edges_from(connections)"
      ],
      "execution_count": 115,
      "outputs": []
    },
    {
      "cell_type": "code",
      "metadata": {
        "colab": {
          "base_uri": "https://localhost:8080/",
          "height": 319
        },
        "id": "FpI0Jyl5MTmr",
        "outputId": "d56d69f2-2d73-4b78-e76d-625d59064ce2"
      },
      "source": [
        "pos=nx.shell_layout(myWeb)\n",
        "nx.draw(myWeb, pos, arrows=True, with_labels=True)\n",
        "plt.show()"
      ],
      "execution_count": 116,
      "outputs": [
        {
          "output_type": "display_data",
          "data": {
            "image/png": "[encoded data removed]",
            "text/plain": [
              "<Figure size 432x288 with 1 Axes>"
            ]
          },
          "metadata": {}
        }
      ]
    },
    {
      "cell_type": "code",
      "metadata": {
        "id": "2PP4JGXdMsZh"
      },
      "source": [
        "def createPageRank(aGraph):\n",
        "    nodes_set = len(aGraph)\n",
        "    M = nx.to_numpy_matrix(aGraph)\n",
        "    outwards = np.squeeze(np.asarray(np.sum(M, axis = 1 )))\n",
        "    prob_outwards = np.array(\n",
        "        [1.0/count\n",
        "         if count>0 else 0.0 for count in outwards])\n",
        "    G = np.asarray(np.multiply(M.T, prob_outwards))\n",
        "    p = np.ones(nodes_set)/float(nodes_set)\n",
        "    if np.min(np.sum(G,axis=0)) < 1.0:\n",
        "      print('WARN: G is substochastic')\n",
        "    return G,p"
      ],
      "execution_count": 117,
      "outputs": []
    },
    {
      "cell_type": "code",
      "metadata": {
        "colab": {
          "base_uri": "https://localhost:8080/"
        },
        "id": "jV424Y3XMt27",
        "outputId": "c9179205-d3f3-4911-898f-759fcac5401f"
      },
      "source": [
        "G, p = createPageRank(myWeb)\n",
        "print(G)"
      ],
      "execution_count": 118,
      "outputs": [
        {
          "output_type": "stream",
          "name": "stdout",
          "text": [
            "[[0.  0.  0.  0.5 1. ]\n",
            " [1.  0.  0.  0.  0. ]\n",
            " [0.  1.  0.  0.  0. ]\n",
            " [0.  0.  1.  0.  0. ]\n",
            " [0.  0.  0.  0.5 0. ]]\n"
          ]
        }
      ]
    }
  ]
}